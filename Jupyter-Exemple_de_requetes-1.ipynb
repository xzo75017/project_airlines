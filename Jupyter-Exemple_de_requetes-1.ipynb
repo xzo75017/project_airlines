{
 "cells": [
  {
   "cell_type": "markdown",
   "metadata": {},
   "source": [
    "Ci-dessous, nous montrons un exemple de plusieurs requetes sur l'API lufthansa ainsi que leur résultat."
   ]
  },
  {
   "cell_type": "code",
   "execution_count": 12,
   "metadata": {},
   "outputs": [
    {
     "name": "stdout",
     "output_type": "stream",
     "text": [
      "HORAIRE DE VOL : \n",
      "\n",
      "[{'airline': 'LH', 'flightNumber': 400, 'suffix': '', 'periodOfOperationUTC': {'startDate': '05AUG22', 'endDate': '10AUG22', 'daysOfOperation': '123 567'}, 'periodOfOperationLT': {'startDate': '05AUG22', 'endDate': '10AUG22', 'daysOfOperation': '123 567'}, 'legs': [{'sequenceNumber': 1, 'origin': 'FRA', 'destination': 'JFK', 'serviceType': 'J', 'aircraftOwner': 'LH', 'aircraftType': '74H', 'aircraftConfigurationVersion': 'F8C80E32M244', 'registration': '', 'op': True, 'aircraftDepartureTimeUTC': 540, 'aircraftDepartureTimeDateDiffUTC': 0, 'aircraftDepartureTimeLT': 660, 'aircraftDepartureTimeDateDiffLT': 0, 'aircraftDepartureTimeVariation': 120, 'aircraftArrivalTimeUTC': 1055, 'aircraftArrivalTimeDateDiffUTC': 0, 'aircraftArrivalTimeLT': 815, 'aircraftArrivalTimeDateDiffLT': 0, 'aircraftArrivalTimeVariation': -240}], 'dataElements': [{'startLegSequenceNumber': 1, 'endLegSequenceNumber': 1, 'id': 10, 'value': 'UA8841/ET1610/SN7230/TG7722'}, {'startLegSequenceNumber': 1, 'endLegSequenceNumber': 1, 'id': 98, 'value': '1'}, {'startLegSequenceNumber': 1, 'endLegSequenceNumber': 1, 'id': 99, 'value': '1'}, {'startLegSequenceNumber': 1, 'endLegSequenceNumber': 1, 'id': 106, 'value': 'FAJCDZPGENYBMUHQVWSTLK'}, {'startLegSequenceNumber': 1, 'endLegSequenceNumber': 1, 'id': 109, 'value': 'FRM/ARM/JRM/CRM/DRM/ZRM/PRM/GRM/ERM/NRM/YRM/BRM/MRM/URM/HRM/QRM/VRM/WRM/SRM/TRM/LRM/KRM'}, {'startLegSequenceNumber': 1, 'endLegSequenceNumber': 1, 'id': 504, 'value': 'S'}, {'startLegSequenceNumber': 1, 'endLegSequenceNumber': 1, 'id': 505, 'value': 'ET'}]}, {'airline': 'LH', 'flightNumber': 401, 'suffix': '', 'periodOfOperationUTC': {'startDate': '05AUG22', 'endDate': '09AUG22', 'daysOfOperation': ' 2  567'}, 'periodOfOperationLT': {'startDate': '05AUG22', 'endDate': '09AUG22', 'daysOfOperation': ' 2  567'}, 'legs': [{'sequenceNumber': 1, 'origin': 'JFK', 'destination': 'FRA', 'serviceType': 'J', 'aircraftOwner': 'LH', 'aircraftType': '74H', 'aircraftConfigurationVersion': 'F8C80E32M244', 'registration': '', 'op': True, 'aircraftDepartureTimeUTC': 1205, 'aircraftDepartureTimeDateDiffUTC': 0, 'aircraftDepartureTimeLT': 965, 'aircraftDepartureTimeDateDiffLT': 0, 'aircraftDepartureTimeVariation': -240, 'aircraftArrivalTimeUTC': 225, 'aircraftArrivalTimeDateDiffUTC': 1, 'aircraftArrivalTimeLT': 345, 'aircraftArrivalTimeDateDiffLT': 1, 'aircraftArrivalTimeVariation': 120}], 'dataElements': [{'startLegSequenceNumber': 1, 'endLegSequenceNumber': 1, 'id': 10, 'value': 'UA8840/SN7231'}, {'startLegSequenceNumber': 1, 'endLegSequenceNumber': 1, 'id': 98, 'value': '1'}, {'startLegSequenceNumber': 1, 'endLegSequenceNumber': 1, 'id': 99, 'value': '1'}, {'startLegSequenceNumber': 1, 'endLegSequenceNumber': 1, 'id': 106, 'value': 'FAJCDZPGENYBMUHQVWSTLK'}, {'startLegSequenceNumber': 1, 'endLegSequenceNumber': 1, 'id': 109, 'value': 'FRM/ARM/JRM/CRM/DRM/ZRM/PRM/GRM/ERM/NRM/YRM/BRM/MRM/URM/HRM/QRM/VRM/WRM/SRM/TRM/LRM/KRM'}, {'startLegSequenceNumber': 1, 'endLegSequenceNumber': 1, 'id': 504, 'value': 'S'}, {'startLegSequenceNumber': 1, 'endLegSequenceNumber': 1, 'id': 505, 'value': 'ET'}]}, {'airline': 'LH', 'flightNumber': 401, 'suffix': '', 'periodOfOperationUTC': {'startDate': '08AUG22', 'endDate': '10AUG22', 'daysOfOperation': '1 3    '}, 'periodOfOperationLT': {'startDate': '08AUG22', 'endDate': '10AUG22', 'daysOfOperation': '1 3    '}, 'legs': [{'sequenceNumber': 1, 'origin': 'JFK', 'destination': 'FRA', 'serviceType': 'J', 'aircraftOwner': 'LH', 'aircraftType': '74H', 'aircraftConfigurationVersion': 'F8C80E32M244', 'registration': '', 'op': True, 'aircraftDepartureTimeUTC': 1205, 'aircraftDepartureTimeDateDiffUTC': 0, 'aircraftDepartureTimeLT': 965, 'aircraftDepartureTimeDateDiffLT': 0, 'aircraftDepartureTimeVariation': -240, 'aircraftArrivalTimeUTC': 225, 'aircraftArrivalTimeDateDiffUTC': 1, 'aircraftArrivalTimeLT': 345, 'aircraftArrivalTimeDateDiffLT': 1, 'aircraftArrivalTimeVariation': 120}], 'dataElements': [{'startLegSequenceNumber': 1, 'endLegSequenceNumber': 1, 'id': 10, 'value': 'UA8840/SN7231/TG7713'}, {'startLegSequenceNumber': 1, 'endLegSequenceNumber': 1, 'id': 98, 'value': '1'}, {'startLegSequenceNumber': 1, 'endLegSequenceNumber': 1, 'id': 99, 'value': '1'}, {'startLegSequenceNumber': 1, 'endLegSequenceNumber': 1, 'id': 106, 'value': 'FAJCDZPGENYBMUHQVWSTLK'}, {'startLegSequenceNumber': 1, 'endLegSequenceNumber': 1, 'id': 109, 'value': 'FRM/ARM/JRM/CRM/DRM/ZRM/PRM/GRM/ERM/NRM/YRM/BRM/MRM/URM/HRM/QRM/VRM/WRM/SRM/TRM/LRM/KRM'}, {'startLegSequenceNumber': 1, 'endLegSequenceNumber': 1, 'id': 504, 'value': 'S'}, {'startLegSequenceNumber': 1, 'endLegSequenceNumber': 1, 'id': 505, 'value': 'ET'}]}, {'airline': 'LH', 'flightNumber': 402, 'suffix': '', 'periodOfOperationUTC': {'startDate': '05AUG22', 'endDate': '10AUG22', 'daysOfOperation': '123 567'}, 'periodOfOperationLT': {'startDate': '05AUG22', 'endDate': '10AUG22', 'daysOfOperation': '123 567'}, 'legs': [{'sequenceNumber': 1, 'origin': 'FRA', 'destination': 'EWR', 'serviceType': 'J', 'aircraftOwner': 'LH', 'aircraftType': '74H', 'aircraftConfigurationVersion': 'F8C80E32M244', 'registration': '', 'op': True, 'aircraftDepartureTimeUTC': 685, 'aircraftDepartureTimeDateDiffUTC': 0, 'aircraftDepartureTimeLT': 805, 'aircraftDepartureTimeDateDiffLT': 0, 'aircraftDepartureTimeVariation': 120, 'aircraftArrivalTimeUTC': 1195, 'aircraftArrivalTimeDateDiffUTC': 0, 'aircraftArrivalTimeLT': 955, 'aircraftArrivalTimeDateDiffLT': 0, 'aircraftArrivalTimeVariation': -240}], 'dataElements': [{'startLegSequenceNumber': 1, 'endLegSequenceNumber': 1, 'id': 10, 'value': 'UA8839/AC9443'}, {'startLegSequenceNumber': 1, 'endLegSequenceNumber': 1, 'id': 98, 'value': 'B'}, {'startLegSequenceNumber': 1, 'endLegSequenceNumber': 1, 'id': 99, 'value': '1'}, {'startLegSequenceNumber': 1, 'endLegSequenceNumber': 1, 'id': 106, 'value': 'FAJCDZPGENYBMUHQVWSTLK'}, {'startLegSequenceNumber': 1, 'endLegSequenceNumber': 1, 'id': 109, 'value': 'FRM/ARM/JRM/CRM/DRM/ZRM/PRM/GRM/ERM/NRM/YRM/BRM/MRM/URM/HRM/QRM/VRM/WRM/SRM/TRM/LRM/KRM'}, {'startLegSequenceNumber': 1, 'endLegSequenceNumber': 1, 'id': 504, 'value': 'S'}, {'startLegSequenceNumber': 1, 'endLegSequenceNumber': 1, 'id': 505, 'value': 'ET'}]}, {'airline': 'LH', 'flightNumber': 403, 'suffix': '', 'periodOfOperationUTC': {'startDate': '05AUG22', 'endDate': '09AUG22', 'daysOfOperation': ' 2  567'}, 'periodOfOperationLT': {'startDate': '05AUG22', 'endDate': '09AUG22', 'daysOfOperation': ' 2  567'}, 'legs': [{'sequenceNumber': 1, 'origin': 'EWR', 'destination': 'FRA', 'serviceType': 'J', 'aircraftOwner': 'LH', 'aircraftType': '74H', 'aircraftConfigurationVersion': 'F8C80E32M244', 'registration': '', 'op': True, 'aircraftDepartureTimeUTC': 1325, 'aircraftDepartureTimeDateDiffUTC': 0, 'aircraftDepartureTimeLT': 1085, 'aircraftDepartureTimeDateDiffLT': 0, 'aircraftDepartureTimeVariation': -240, 'aircraftArrivalTimeUTC': 330, 'aircraftArrivalTimeDateDiffUTC': 1, 'aircraftArrivalTimeLT': 450, 'aircraftArrivalTimeDateDiffLT': 1, 'aircraftArrivalTimeVariation': 120}], 'dataElements': [{'startLegSequenceNumber': 1, 'endLegSequenceNumber': 1, 'id': 10, 'value': 'UA8838/AC9444'}, {'startLegSequenceNumber': 1, 'endLegSequenceNumber': 1, 'id': 98, 'value': '1'}, {'startLegSequenceNumber': 1, 'endLegSequenceNumber': 1, 'id': 99, 'value': 'B'}, {'startLegSequenceNumber': 1, 'endLegSequenceNumber': 1, 'id': 106, 'value': 'FAJCDZPGENYBMUHQVWSTLK'}, {'startLegSequenceNumber': 1, 'endLegSequenceNumber': 1, 'id': 109, 'value': 'FRM/ARM/JRM/CRM/DRM/ZRM/PRM/GRM/ERM/NRM/YRM/BRM/MRM/URM/HRM/QRM/VRM/WRM/SRM/TRM/LRM/KRM'}, {'startLegSequenceNumber': 1, 'endLegSequenceNumber': 1, 'id': 504, 'value': 'S'}, {'startLegSequenceNumber': 1, 'endLegSequenceNumber': 1, 'id': 505, 'value': 'ET'}]}, {'airline': 'LH', 'flightNumber': 403, 'suffix': '', 'periodOfOperationUTC': {'startDate': '08AUG22', 'endDate': '10AUG22', 'daysOfOperation': '1 3    '}, 'periodOfOperationLT': {'startDate': '08AUG22', 'endDate': '10AUG22', 'daysOfOperation': '1 3    '}, 'legs': [{'sequenceNumber': 1, 'origin': 'EWR', 'destination': 'FRA', 'serviceType': 'J', 'aircraftOwner': 'LH', 'aircraftType': '74H', 'aircraftConfigurationVersion': 'F8C80E32M244', 'registration': '', 'op': True, 'aircraftDepartureTimeUTC': 1325, 'aircraftDepartureTimeDateDiffUTC': 0, 'aircraftDepartureTimeLT': 1085, 'aircraftDepartureTimeDateDiffLT': 0, 'aircraftDepartureTimeVariation': -240, 'aircraftArrivalTimeUTC': 330, 'aircraftArrivalTimeDateDiffUTC': 1, 'aircraftArrivalTimeLT': 450, 'aircraftArrivalTimeDateDiffLT': 1, 'aircraftArrivalTimeVariation': 120}], 'dataElements': [{'startLegSequenceNumber': 1, 'endLegSequenceNumber': 1, 'id': 10, 'value': 'UA8838/AC9444/ET1609'}, {'startLegSequenceNumber': 1, 'endLegSequenceNumber': 1, 'id': 98, 'value': '1'}, {'startLegSequenceNumber': 1, 'endLegSequenceNumber': 1, 'id': 99, 'value': 'B'}, {'startLegSequenceNumber': 1, 'endLegSequenceNumber': 1, 'id': 106, 'value': 'FAJCDZPGENYBMUHQVWSTLK'}, {'startLegSequenceNumber': 1, 'endLegSequenceNumber': 1, 'id': 109, 'value': 'FRM/ARM/JRM/CRM/DRM/ZRM/PRM/GRM/ERM/NRM/YRM/BRM/MRM/URM/HRM/QRM/VRM/WRM/SRM/TRM/LRM/KRM'}, {'startLegSequenceNumber': 1, 'endLegSequenceNumber': 1, 'id': 504, 'value': 'S'}, {'startLegSequenceNumber': 1, 'endLegSequenceNumber': 1, 'id': 505, 'value': 'ET'}]}, {'airline': 'LH', 'flightNumber': 404, 'suffix': '', 'periodOfOperationUTC': {'startDate': '05AUG22', 'endDate': '06AUG22', 'daysOfOperation': '    56 '}, 'periodOfOperationLT': {'startDate': '05AUG22', 'endDate': '06AUG22', 'daysOfOperation': '    56 '}, 'legs': [{'sequenceNumber': 1, 'origin': 'FRA', 'destination': 'JFK', 'serviceType': 'J', 'aircraftOwner': 'LH', 'aircraftType': '343', 'aircraftConfigurationVersion': 'C30E28M221', 'registration': '', 'op': True, 'aircraftDepartureTimeUTC': 910, 'aircraftDepartureTimeDateDiffUTC': 0, 'aircraftDepartureTimeLT': 1030, 'aircraftDepartureTimeDateDiffLT': 0, 'aircraftDepartureTimeVariation': 120, 'aircraftArrivalTimeUTC': 5, 'aircraftArrivalTimeDateDiffUTC': 1, 'aircraftArrivalTimeLT': 1205, 'aircraftArrivalTimeDateDiffLT': 0, 'aircraftArrivalTimeVariation': -240}], 'dataElements': [{'startLegSequenceNumber': 1, 'endLegSequenceNumber': 1, 'id': 10, 'value': 'UA8843/SN7232'}, {'startLegSequenceNumber': 1, 'endLegSequenceNumber': 1, 'id': 98, 'value': '1'}, {'startLegSequenceNumber': 1, 'endLegSequenceNumber': 1, 'id': 99, 'value': '1'}, {'startLegSequenceNumber': 1, 'endLegSequenceNumber': 1, 'id': 106, 'value': 'JCDZPGENYBMUHQVWSTLK'}, {'startLegSequenceNumber': 1, 'endLegSequenceNumber': 1, 'id': 109, 'value': 'JRM/CRM/DRM/ZRM/PRM/GRM/ERM/NRM/YRM/BRM/MRM/URM/HRM/QRM/VRM/WRM/SRM/TRM/LRM/KRM'}, {'startLegSequenceNumber': 1, 'endLegSequenceNumber': 1, 'id': 504, 'value': 'S'}, {'startLegSequenceNumber': 1, 'endLegSequenceNumber': 1, 'id': 505, 'value': 'ET'}]}, {'airline': 'LH', 'flightNumber': 404, 'suffix': '', 'periodOfOperationUTC': {'startDate': '09AUG22', 'endDate': '09AUG22', 'daysOfOperation': ' 2     '}, 'periodOfOperationLT': {'startDate': '09AUG22', 'endDate': '09AUG22', 'daysOfOperation': ' 2     '}, 'legs': [{'sequenceNumber': 1, 'origin': 'FRA', 'destination': 'JFK', 'serviceType': 'J', 'aircraftOwner': 'LH', 'aircraftType': '333', 'aircraftConfigurationVersion': 'C42E28M185', 'registration': '', 'op': True, 'aircraftDepartureTimeUTC': 910, 'aircraftDepartureTimeDateDiffUTC': 0, 'aircraftDepartureTimeLT': 1030, 'aircraftDepartureTimeDateDiffLT': 0, 'aircraftDepartureTimeVariation': 120, 'aircraftArrivalTimeUTC': 5, 'aircraftArrivalTimeDateDiffUTC': 1, 'aircraftArrivalTimeLT': 1205, 'aircraftArrivalTimeDateDiffLT': 0, 'aircraftArrivalTimeVariation': -240}], 'dataElements': [{'startLegSequenceNumber': 1, 'endLegSequenceNumber': 1, 'id': 10, 'value': 'UA8843/SN7232'}, {'startLegSequenceNumber': 1, 'endLegSequenceNumber': 1, 'id': 98, 'value': '1'}, {'startLegSequenceNumber': 1, 'endLegSequenceNumber': 1, 'id': 99, 'value': '1'}, {'startLegSequenceNumber': 1, 'endLegSequenceNumber': 1, 'id': 106, 'value': 'JCDZPGENYBMUHQVWSTLK'}, {'startLegSequenceNumber': 1, 'endLegSequenceNumber': 1, 'id': 109, 'value': 'JRM/CRM/DRM/ZRM/PRM/GRM/ERM/NRM/YRM/BRM/MRM/URM/HRM/QRM/VRM/WRM/SRM/TRM/LRM/KRM'}, {'startLegSequenceNumber': 1, 'endLegSequenceNumber': 1, 'id': 504, 'value': 'S'}, {'startLegSequenceNumber': 1, 'endLegSequenceNumber': 1, 'id': 505, 'value': 'ET'}]}, {'airline': 'LH', 'flightNumber': 405, 'suffix': '', 'periodOfOperationUTC': {'startDate': '05AUG22', 'endDate': '07AUG22', 'daysOfOperation': '    567'}, 'periodOfOperationLT': {'startDate': '04AUG22', 'endDate': '06AUG22', 'daysOfOperation': '   456 '}, 'legs': [{'sequenceNumber': 1, 'origin': 'JFK', 'destination': 'FRA', 'serviceType': 'J', 'aircraftOwner': 'LH', 'aircraftType': '343', 'aircraftConfigurationVersion': 'C30E28M221', 'registration': '', 'op': True, 'aircraftDepartureTimeUTC': 110, 'aircraftDepartureTimeDateDiffUTC': 0, 'aircraftDepartureTimeLT': 1310, 'aircraftDepartureTimeDateDiffLT': 0, 'aircraftDepartureTimeVariation': -240, 'aircraftArrivalTimeUTC': 590, 'aircraftArrivalTimeDateDiffUTC': 0, 'aircraftArrivalTimeLT': 710, 'aircraftArrivalTimeDateDiffLT': 1, 'aircraftArrivalTimeVariation': 120}], 'dataElements': [{'startLegSequenceNumber': 1, 'endLegSequenceNumber': 1, 'id': 10, 'value': 'UA8842/ET1617/SN7233/TG7723'}, {'startLegSequenceNumber': 1, 'endLegSequenceNumber': 1, 'id': 98, 'value': '1'}, {'startLegSequenceNumber': 1, 'endLegSequenceNumber': 1, 'id': 99, 'value': '1'}, {'startLegSequenceNumber': 1, 'endLegSequenceNumber': 1, 'id': 106, 'value': 'JCDZPGENYBMUHQVWSTLK'}, {'startLegSequenceNumber': 1, 'endLegSequenceNumber': 1, 'id': 109, 'value': 'JRM/CRM/DRM/ZRM/PRM/GRM/ERM/NRM/YRM/BRM/MRM/URM/HRM/QRM/VRM/WRM/SRM/TRM/LRM/KRM'}, {'startLegSequenceNumber': 1, 'endLegSequenceNumber': 1, 'id': 504, 'value': 'S'}, {'startLegSequenceNumber': 1, 'endLegSequenceNumber': 1, 'id': 505, 'value': 'ET'}]}, {'airline': 'LH', 'flightNumber': 405, 'suffix': '', 'periodOfOperationUTC': {'startDate': '10AUG22', 'endDate': '10AUG22', 'daysOfOperation': '  3    '}, 'periodOfOperationLT': {'startDate': '09AUG22', 'endDate': '09AUG22', 'daysOfOperation': ' 2     '}, 'legs': [{'sequenceNumber': 1, 'origin': 'JFK', 'destination': 'FRA', 'serviceType': 'J', 'aircraftOwner': 'LH', 'aircraftType': '333', 'aircraftConfigurationVersion': 'C42E28M185', 'registration': '', 'op': True, 'aircraftDepartureTimeUTC': 110, 'aircraftDepartureTimeDateDiffUTC': 0, 'aircraftDepartureTimeLT': 1310, 'aircraftDepartureTimeDateDiffLT': 0, 'aircraftDepartureTimeVariation': -240, 'aircraftArrivalTimeUTC': 590, 'aircraftArrivalTimeDateDiffUTC': 0, 'aircraftArrivalTimeLT': 710, 'aircraftArrivalTimeDateDiffLT': 1, 'aircraftArrivalTimeVariation': 120}], 'dataElements': [{'startLegSequenceNumber': 1, 'endLegSequenceNumber': 1, 'id': 10, 'value': 'UA8842/ET1617/SN7233/TG7723'}, {'startLegSequenceNumber': 1, 'endLegSequenceNumber': 1, 'id': 98, 'value': '1'}, {'startLegSequenceNumber': 1, 'endLegSequenceNumber': 1, 'id': 99, 'value': '1'}, {'startLegSequenceNumber': 1, 'endLegSequenceNumber': 1, 'id': 106, 'value': 'JCDZPGENYBMUHQVWSTLK'}, {'startLegSequenceNumber': 1, 'endLegSequenceNumber': 1, 'id': 109, 'value': 'JRM/CRM/DRM/ZRM/PRM/GRM/ERM/NRM/YRM/BRM/MRM/URM/HRM/QRM/VRM/WRM/SRM/TRM/LRM/KRM'}, {'startLegSequenceNumber': 1, 'endLegSequenceNumber': 1, 'id': 504, 'value': 'S'}, {'startLegSequenceNumber': 1, 'endLegSequenceNumber': 1, 'id': 505, 'value': 'ET'}]}]\n",
      "\n",
      "----------------------------------------------------------------------------\n",
      "\n",
      "CARACTERISTIQUES DES SALONS DISPONIBLES : \n",
      "\n",
      "{'LoungeResource': {'Lounges': {'Lounge': [{'Names': {'Name': {'@LanguageCode': 'en', '$': 'Lufthansa Senator Lounge'}}, 'AirportCode': 'FRA', 'CityCode': 'FRA', 'Locations': {'Location': {'@LanguageCode': 'en', '$': 'Terminal 1, Departure area C (NonSchengen), near gates C14/C15'}}, 'OpeningHours': {'OpeningHours': {'@LanguageCode': 'de', '$': '05:00 - 22:00 Uhr'}}, 'Features': {'NonSmokingLounge': False, 'Restrooms': False, 'ShowerFacilities': True, 'RelaxingRooms': False, 'MeetingRooms': False, 'OfficeUnits': True, 'CopyMachine': True, 'FaxMachine': False, 'MAMPrinter': False, 'CreditCardTelephone': False, 'FreeLocalTelephoneCalls': False, 'PCWithInternetAccess': False, 'DataPortForLaptops': False, 'WLANFacility': True, 'TV': True}, 'MagazinesAndNews': {'German': False, 'International': False, 'Local': False}}, {'Names': {'Name': {'@LanguageCode': 'en', '$': 'Lufthansa Business Class Lounge'}}, 'AirportCode': 'FRA', 'CityCode': 'FRA', 'Locations': {'Location': {'@LanguageCode': 'en', '$': 'Terminal 1, Concourse C (NonSchengen), Departure level, above gates C14 and C15'}}, 'OpeningHours': {'OpeningHours': {'@LanguageCode': 'de', '$': '05:00 - 22:00 Uhr'}}, 'Features': {'NonSmokingLounge': False, 'Restrooms': False, 'ShowerFacilities': False, 'RelaxingRooms': False, 'MeetingRooms': False, 'OfficeUnits': False, 'CopyMachine': True, 'FaxMachine': False, 'MAMPrinter': False, 'CreditCardTelephone': False, 'FreeLocalTelephoneCalls': False, 'PCWithInternetAccess': False, 'DataPortForLaptops': False, 'WLANFacility': True, 'TV': True}, 'MagazinesAndNews': {'German': False, 'International': False, 'Local': False}}, {'Names': {'Name': {'@LanguageCode': 'en', '$': 'Lufthansa Business Class Lounge'}}, 'AirportCode': 'FRA', 'CityCode': 'FRA', 'Locations': {'Location': {'@LanguageCode': 'en', '$': 'Terminal 1, Departure area B (NonSchengen), near gates B24B28'}}, 'OpeningHours': {'OpeningHours': {'@LanguageCode': 'de', '$': '05:00 - 22:00 Uhr'}}, 'Features': {'NonSmokingLounge': False, 'Restrooms': False, 'ShowerFacilities': True, 'RelaxingRooms': False, 'MeetingRooms': False, 'OfficeUnits': True, 'CopyMachine': True, 'FaxMachine': False, 'MAMPrinter': False, 'CreditCardTelephone': False, 'FreeLocalTelephoneCalls': False, 'PCWithInternetAccess': False, 'DataPortForLaptops': False, 'WLANFacility': True, 'TV': True}, 'MagazinesAndNews': {'German': False, 'International': False, 'Local': False}}, {'Names': {'Name': {'@LanguageCode': 'en', '$': 'Lufthansa Senator Lounge'}}, 'AirportCode': 'FRA', 'CityCode': 'FRA', 'Locations': {'Location': {'@LanguageCode': 'en', '$': 'Terminal 1, Departure area A (Schengen)  opposite to Duty Free Shop, in direction of gate A50'}}, 'Features': {'NonSmokingLounge': False, 'Restrooms': False, 'ShowerFacilities': True, 'RelaxingRooms': False, 'MeetingRooms': False, 'OfficeUnits': True, 'CopyMachine': True, 'FaxMachine': False, 'MAMPrinter': False, 'CreditCardTelephone': False, 'FreeLocalTelephoneCalls': False, 'PCWithInternetAccess': False, 'DataPortForLaptops': False, 'WLANFacility': True, 'TV': True}, 'MagazinesAndNews': {'German': False, 'International': False, 'Local': False}}, {'AirportCode': 'FRA', 'CityCode': 'FRA', 'Locations': {'Location': {'@LanguageCode': 'en', '$': 'Terminal 1, Arrival level  immediately behind the baggage claim area B (public area)'}}, 'Features': {'NonSmokingLounge': False, 'Restrooms': False, 'ShowerFacilities': True, 'RelaxingRooms': False, 'MeetingRooms': False, 'OfficeUnits': True, 'CopyMachine': True, 'FaxMachine': False, 'MAMPrinter': False, 'CreditCardTelephone': False, 'FreeLocalTelephoneCalls': False, 'PCWithInternetAccess': False, 'DataPortForLaptops': False, 'WLANFacility': False, 'TV': True}, 'MagazinesAndNews': {'German': False, 'International': False, 'Local': False}}, {'Names': {'Name': {'@LanguageCode': 'en', '$': 'Lufthansa Business Class Lounge'}}, 'AirportCode': 'FRA', 'CityCode': 'FRA', 'Locations': {'Location': {'@LanguageCode': 'en', '$': 'Terminal 1, Departure area B (NonSchengen), near gates B44B48'}}, 'OpeningHours': {'OpeningHours': {'@LanguageCode': 'de', '$': '05:00 - 22:00 Uhr'}}, 'Features': {'NonSmokingLounge': False, 'Restrooms': False, 'ShowerFacilities': True, 'RelaxingRooms': False, 'MeetingRooms': False, 'OfficeUnits': True, 'CopyMachine': True, 'FaxMachine': False, 'MAMPrinter': False, 'CreditCardTelephone': False, 'FreeLocalTelephoneCalls': False, 'PCWithInternetAccess': False, 'DataPortForLaptops': False, 'WLANFacility': True, 'TV': True}, 'MagazinesAndNews': {'German': False, 'International': False, 'Local': False}}, {'Names': {'Name': {'@LanguageCode': 'en', '$': 'Lufthansa Business Class Lounge'}}, 'AirportCode': 'FRA', 'CityCode': 'FRA', 'Locations': {'Location': {'@LanguageCode': 'en', '$': 'Terminal 1, Departure area Z (NonSchengen)  opposite to Duty Free Shop, in direction of gate Z50'}}, 'OpeningHours': {'OpeningHours': {'@LanguageCode': 'de', '$': '05:00 - 22:00 Uhr'}}, 'Features': {'NonSmokingLounge': False, 'Restrooms': False, 'ShowerFacilities': True, 'RelaxingRooms': False, 'MeetingRooms': False, 'OfficeUnits': True, 'CopyMachine': True, 'FaxMachine': False, 'MAMPrinter': False, 'CreditCardTelephone': False, 'FreeLocalTelephoneCalls': False, 'PCWithInternetAccess': False, 'DataPortForLaptops': False, 'WLANFacility': True, 'TV': True}, 'MagazinesAndNews': {'German': False, 'International': False, 'Local': False}}, {'Names': {'Name': {'@LanguageCode': 'en', '$': 'Lufthansa Business Class Lounge'}}, 'AirportCode': 'FRA', 'CityCode': 'FRA', 'Locations': {'Location': {'@LanguageCode': 'en', '$': 'Terminal 1, Departure area A (Schengen)  opposite to Duty Free Shop, Next to gate A13'}}, 'OpeningHours': {'OpeningHours': {'@LanguageCode': 'de', '$': '05:00 - 22:00 Uhr'}}, 'Features': {'NonSmokingLounge': False, 'Restrooms': False, 'ShowerFacilities': False, 'RelaxingRooms': False, 'MeetingRooms': False, 'OfficeUnits': True, 'CopyMachine': True, 'FaxMachine': False, 'MAMPrinter': False, 'CreditCardTelephone': False, 'FreeLocalTelephoneCalls': False, 'PCWithInternetAccess': False, 'DataPortForLaptops': False, 'WLANFacility': True, 'TV': True}, 'MagazinesAndNews': {'German': False, 'International': False, 'Local': False}}, {'Names': {'Name': {'@LanguageCode': 'en', '$': 'Lufthansa Business Class Lounge'}}, 'AirportCode': 'FRA', 'CityCode': 'FRA', 'Locations': {'Location': {'@LanguageCode': 'en', '$': 'Terminal 1, Departure area A (Schengen), One level up at gate A26'}}, 'OpeningHours': {'OpeningHours': {'@LanguageCode': 'de', '$': '05:00 - 22:00 Uhr'}}, 'Features': {'NonSmokingLounge': False, 'Restrooms': False, 'ShowerFacilities': True, 'RelaxingRooms': False, 'MeetingRooms': False, 'OfficeUnits': False, 'CopyMachine': True, 'FaxMachine': False, 'MAMPrinter': False, 'CreditCardTelephone': False, 'FreeLocalTelephoneCalls': False, 'PCWithInternetAccess': False, 'DataPortForLaptops': False, 'WLANFacility': True, 'TV': True}, 'MagazinesAndNews': {'German': False, 'International': False, 'Local': False}}, {'Names': {'Name': {'@LanguageCode': 'en', '$': 'Lufthansa First Class Lounge'}}, 'AirportCode': 'FRA', 'CityCode': 'FRA', 'Locations': {'Location': {'@LanguageCode': 'en', '$': 'Terminal 1, Departure area A (Schengen)  opposite to Duty Free Shop, next to gate A13'}}, 'OpeningHours': {'OpeningHours': {'@LanguageCode': 'de', '$': '05:15 - 22:00 Uhr'}}, 'Features': {'NonSmokingLounge': False, 'Restrooms': False, 'ShowerFacilities': True, 'RelaxingRooms': False, 'MeetingRooms': False, 'OfficeUnits': True, 'CopyMachine': True, 'FaxMachine': False, 'MAMPrinter': False, 'CreditCardTelephone': False, 'FreeLocalTelephoneCalls': False, 'PCWithInternetAccess': False, 'DataPortForLaptops': False, 'WLANFacility': True, 'TV': True}, 'MagazinesAndNews': {'German': False, 'International': False, 'Local': False}}, {'Names': {'Name': {'@LanguageCode': 'en', '$': 'Lufthansa First Class Lounge'}}, 'AirportCode': 'FRA', 'CityCode': 'FRA', 'Locations': {'Location': {'@LanguageCode': 'en', '$': 'Terminal 1, Departure area B (NonSchengen), next to gate B22'}}, 'OpeningHours': {'OpeningHours': {'@LanguageCode': 'de', '$': '05:15 - 22:00 Uhr'}}, 'Features': {'NonSmokingLounge': False, 'Restrooms': False, 'ShowerFacilities': False, 'RelaxingRooms': False, 'MeetingRooms': False, 'OfficeUnits': True, 'CopyMachine': True, 'FaxMachine': False, 'MAMPrinter': False, 'CreditCardTelephone': False, 'FreeLocalTelephoneCalls': False, 'PCWithInternetAccess': False, 'DataPortForLaptops': False, 'WLANFacility': True, 'TV': True}, 'MagazinesAndNews': {'German': False, 'International': False, 'Local': False}}, {'Names': {'Name': {'@LanguageCode': 'en', '$': 'Lufthansa Business Class Lounge'}}, 'AirportCode': 'FRA', 'CityCode': 'FRA', 'Locations': {'Location': {'@LanguageCode': 'en', '$': 'Terminal 1, Concourse C (NonSchengen), Departure Level, above gate C16'}}, 'OpeningHours': {'OpeningHours': {'@LanguageCode': 'de', '$': '05:00 - 22:00 Uhr'}}, 'Features': {'NonSmokingLounge': False, 'Restrooms': False, 'ShowerFacilities': False, 'RelaxingRooms': False, 'MeetingRooms': False, 'OfficeUnits': True, 'CopyMachine': False, 'FaxMachine': False, 'MAMPrinter': False, 'CreditCardTelephone': False, 'FreeLocalTelephoneCalls': False, 'PCWithInternetAccess': False, 'DataPortForLaptops': False, 'WLANFacility': True, 'TV': True}, 'MagazinesAndNews': {'German': False, 'International': False, 'Local': False}}, {'Names': {'Name': {'@LanguageCode': 'en', '$': 'Lufthansa Senator Lounge'}}, 'AirportCode': 'FRA', 'CityCode': 'FRA', 'Locations': {'Location': {'@LanguageCode': 'en', '$': 'Terminal 1, Departure area B (NonSchengen), next to Gate B43'}}, 'Features': {'NonSmokingLounge': False, 'Restrooms': False, 'ShowerFacilities': True, 'RelaxingRooms': False, 'MeetingRooms': False, 'OfficeUnits': True, 'CopyMachine': True, 'FaxMachine': False, 'MAMPrinter': False, 'CreditCardTelephone': False, 'FreeLocalTelephoneCalls': False, 'PCWithInternetAccess': False, 'DataPortForLaptops': False, 'WLANFacility': True, 'TV': True}, 'MagazinesAndNews': {'German': False, 'International': False, 'Local': False}}, {'Names': {'Name': {'@LanguageCode': 'en', '$': 'Lufthansa Senator Lounge'}}, 'AirportCode': 'FRA', 'CityCode': 'FRA', 'Locations': {'Location': {'@LanguageCode': 'en', '$': 'Terminal 1, Departure area Z (NonSchengen)  opposite to Duty Free Shop, in direction of gate Z50'}}, 'OpeningHours': {'OpeningHours': {'@LanguageCode': 'de', '$': '05:00 - 22:00 Uhr'}}, 'Features': {'NonSmokingLounge': False, 'Restrooms': False, 'ShowerFacilities': True, 'RelaxingRooms': False, 'MeetingRooms': False, 'OfficeUnits': True, 'CopyMachine': True, 'FaxMachine': False, 'MAMPrinter': False, 'CreditCardTelephone': False, 'FreeLocalTelephoneCalls': False, 'PCWithInternetAccess': False, 'DataPortForLaptops': False, 'WLANFacility': True, 'TV': True}, 'MagazinesAndNews': {'German': False, 'International': False, 'Local': False}}, {'Names': {'Name': {'@LanguageCode': 'en', '$': 'Lufthansa Business Class Lounge'}}, 'AirportCode': 'FRA', 'CityCode': 'FRA', 'Locations': {'Location': {'@LanguageCode': 'en', '$': 'Terminal 1, Departure area A (Schengen), across from Gate A26'}}, 'OpeningHours': {'OpeningHours': {'@LanguageCode': 'de', '$': '05:00 - 22:00 Uhr'}}, 'Features': {'NonSmokingLounge': False, 'Restrooms': False, 'ShowerFacilities': False, 'RelaxingRooms': False, 'MeetingRooms': False, 'OfficeUnits': False, 'CopyMachine': True, 'FaxMachine': False, 'MAMPrinter': False, 'CreditCardTelephone': False, 'FreeLocalTelephoneCalls': False, 'PCWithInternetAccess': False, 'DataPortForLaptops': False, 'WLANFacility': True, 'TV': True}, 'MagazinesAndNews': {'German': False, 'International': False, 'Local': False}}, {'Names': {'Name': {'@LanguageCode': 'en', '$': 'Lufthansa First Class Terminal'}}, 'AirportCode': 'FRA', 'CityCode': 'FRA', 'Locations': {'Location': {'@LanguageCode': 'en', '$': 'First Class Terminal, Arriving by car follow the signs to Departures of Terminal 1. Before you reach Terminal 1 turn right'}}, 'OpeningHours': {'OpeningHours': {'@LanguageCode': 'de', '$': '05:30 - 22:00 Uhr'}}, 'Features': {'NonSmokingLounge': False, 'Restrooms': False, 'ShowerFacilities': False, 'RelaxingRooms': False, 'MeetingRooms': False, 'OfficeUnits': True, 'CopyMachine': True, 'FaxMachine': False, 'MAMPrinter': False, 'CreditCardTelephone': False, 'FreeLocalTelephoneCalls': False, 'PCWithInternetAccess': False, 'DataPortForLaptops': False, 'WLANFacility': True, 'TV': True}, 'MagazinesAndNews': {'German': False, 'International': False, 'Local': False}}]}, 'Meta': {'@Version': '1.0.0', 'Link': [{'@Href': 'https://api.lufthansa.com/v1/offers/lounges/FRA?tierCode=SEN&lang=de', '@Rel': 'self'}, {'@Href': 'https://api.lufthansa.com/v1/references/airports/{airportCode}', '@Rel': 'related'}, {'@Href': 'https://api.lufthansa.com/v1/references/cities/FRA', '@Rel': 'related'}]}}}\n",
      "\n",
      "----------------------------------------------------------------------------\n",
      "\n",
      "Villes : \n",
      "\n",
      "{'CityResource': {'Cities': {'City': [{'CityCode': 'AFO', 'CountryCode': 'US', 'Names': {'Name': {'@LanguageCode': 'EN', '$': 'Afton'}}, 'UtcOffset': '-07:00', 'TimeZoneId': 'America/Denver', 'Airports': {'AirportCode': 'AFO'}}, {'CityCode': 'AFR', 'CountryCode': 'PG', 'Names': {'Name': {'@LanguageCode': 'EN', '$': 'Afore'}}, 'UtcOffset': '+10:00', 'TimeZoneId': 'Pacific/Port_Moresby', 'Airports': {'AirportCode': 'AFR'}}, {'CityCode': 'AFS', 'CountryCode': 'UZ', 'Names': {'Name': {'@LanguageCode': 'EN', '$': 'Zarafshan'}}, 'UtcOffset': '+05:00', 'TimeZoneId': 'Asia/Tashkent', 'Airports': {'AirportCode': 'AFS'}}, {'CityCode': 'AFT', 'CountryCode': 'SB', 'Names': {'Name': {'@LanguageCode': 'EN', '$': 'Afutara'}}, 'UtcOffset': '+11:00', 'TimeZoneId': 'Pacific/Guadalcanal', 'Airports': {'AirportCode': 'AFT'}}, {'CityCode': 'AFU', 'CountryCode': 'QA', 'Names': {'Name': {'@LanguageCode': 'EN', '$': 'Al Udeid'}}, 'UtcOffset': '+03:00', 'TimeZoneId': 'Asia/Qatar', 'Airports': {'AirportCode': 'AFU'}}, {'CityCode': 'AFY', 'CountryCode': 'TR', 'Names': {'Name': {'@LanguageCode': 'EN', '$': 'Afyon'}}, 'UtcOffset': '+03:00', 'TimeZoneId': 'Europe/Istanbul', 'Airports': {'AirportCode': 'AFY'}}, {'CityCode': 'AFZ', 'CountryCode': 'IR', 'Names': {'Name': {'@LanguageCode': 'EN', '$': 'Sabzevar'}}, 'UtcOffset': '+03:30', 'TimeZoneId': 'Asia/Tehran', 'Airports': {'AirportCode': 'AFZ'}}, {'CityCode': 'AGA', 'CountryCode': 'MA', 'Names': {'Name': [{'@LanguageCode': 'BG', '$': 'Агадир'}, {'@LanguageCode': 'CS', '$': 'Agadir'}, {'@LanguageCode': 'DE', '$': 'Agadir'}, {'@LanguageCode': 'EL', '$': 'Αγκαντίρ'}, {'@LanguageCode': 'EN', '$': 'Agadir'}, {'@LanguageCode': 'ES', '$': 'Agadir'}, {'@LanguageCode': 'FR', '$': 'Agadir'}, {'@LanguageCode': 'HU', '$': 'Agadir'}, {'@LanguageCode': 'IT', '$': 'Agadir'}, {'@LanguageCode': 'KO', '$': '아가디르'}, {'@LanguageCode': 'PL', '$': 'Agadir'}, {'@LanguageCode': 'PT', '$': 'Agadir'}, {'@LanguageCode': 'RO', '$': 'Agadir'}, {'@LanguageCode': 'RU', '$': 'Агадир'}, {'@LanguageCode': 'SV', '$': 'Agadir'}, {'@LanguageCode': 'TR', '$': 'Agadir'}, {'@LanguageCode': 'UK', '$': 'Агадир'}, {'@LanguageCode': 'ZH', '$': '阿加迪爾'}]}, 'UtcOffset': '+01:00', 'TimeZoneId': 'Africa/Casablanca', 'Airports': {'AirportCode': 'AGA'}}, {'CityCode': 'AGD', 'CountryCode': 'ID', 'Names': {'Name': {'@LanguageCode': 'EN', '$': 'Anggi'}}, 'UtcOffset': '+09:00', 'TimeZoneId': 'Asia/Jayapura', 'Airports': {'AirportCode': 'AGD'}}, {'CityCode': 'AGE', 'CountryCode': 'DE', 'Names': {'Name': {'@LanguageCode': 'EN', '$': 'Wangerooge'}}, 'UtcOffset': '+01:00', 'TimeZoneId': 'Europe/Berlin', 'Airports': {'AirportCode': 'AGE'}}]}, 'Meta': {'@Version': '1.0.0', 'Link': [{'@Href': 'https://api.lufthansa.com/v1/mds-references/cities?limit=10&offset=123', '@Rel': 'self'}, {'@Href': 'https://api.lufthansa.com/v1/mds-references/cities?limit=10&offset=0', '@Rel': 'first'}, {'@Href': 'https://api.lufthansa.com/v1/mds-references/cities?limit=10&offset=113', '@Rel': 'previous'}, {'@Href': 'https://api.lufthansa.com/v1/mds-references/cities?limit=10&offset=133', '@Rel': 'next'}, {'@Href': 'https://api.lufthansa.com/v1/mds-references/cities?limit=10&offset=10680', '@Rel': 'last'}, {'@Href': 'https://api.lufthansa.com/v1/mds-references/airports/{airportCode}', '@Rel': 'related'}, {'@Href': 'https://api.lufthansa.com/v1/mds-references/countries/{countryCode}', '@Rel': 'related'}], 'TotalCount': 10681}}}\n"
     ]
    }
   ],
   "source": [
    "def token_lufthansa():\n",
    "    '''\n",
    "    Fonction permettant d'obtenir un token pour s'authentifier à l'API de lufthansa.\n",
    "    retourne un token en format json\n",
    "    '''\n",
    "    url = \"https://api.lufthansa.com/v1/oauth/token\"       #url pour post une demande de token\n",
    "    header_auth = {'client_id':'fuf4333jnbsfp63vdc248rxq', 'client_secret':'bfQKjgnQMQBTxtXMGtpq', 'grant_type':'client_credentials'}  #header avec l'id, le mdp (secret) et grant_type\n",
    "    token = requests.post(url, data=header_auth)    #demande de token\n",
    "    return token.json()  #on transforme le token en json pour lire et récuperer les infos plus facilement\n",
    "\n",
    "def requete_api_lufthansa(link, token):\n",
    "    '''\n",
    "    Fonction permettant de lancer une requete sur l'API de lufthansa.\n",
    "    Paramètres : \n",
    "        -Lien décrivant la requete (par exemple : https://api.lufthansa.com/v1/offers/lounges/FRA?tierCode=SEN&lang=de pour les lounges)\n",
    "        -token permettant de s'authentifier\n",
    "    '''\n",
    "    header = {'Authorization':'Bearer ' + token['access_token'], 'Accept': 'application/json'}  #header permettant de s'authentifier\n",
    "    req = requests.get(link, headers=header)   #requete lancée\n",
    "    print(req.json())  #on affiche le résultat\n",
    "    \n",
    "def test_requetes_lufthansa():\n",
    "        \n",
    "    token = token_lufthansa()\n",
    "    base = \"https://api.lufthansa.com/v1/\"  #lien de base pour toutes les requetes\n",
    "\n",
    "    #horaire de vol et leur caractéristiques : ici on demande des informations sur les vols des avions de LH, ayant un numéro entre 400 et 405 et entre le 5 et 10 aout , tout les jours\n",
    "    flight_schedule = \"flight-schedules/flightschedules/passenger?airlines=LH&flightNumberRanges=400-405&startDate=05AUG22&endDate=10AUG22&daysOfOperation=1234567&timeMode=UTC\"\n",
    "\n",
    "    #agencement des places assises ainsi que leur caractéristiques : /offers/seatmaps/{flightNumber}/{origin}/{destination}/{departureDate}/{cabinTypeCode}\n",
    "    seats =  \"offers/seatmaps/LH400/FRA/JFK/2014-12-03/C\"\n",
    "\n",
    "    #Caractéristiques des salons disponibles : /offers/lounges/{code}[?][cabinClass={cabinClassCode}|tierCode={tierCode}][&][lang={languageCode}]\n",
    "    lounges = \"offers/lounges/FRA?tierCode=SEN&lang=de\"\n",
    "    \n",
    "    #Détails d'une ville\n",
    "    cities = \"mds-references/cities?limit=10&offset=123\"\n",
    "    \n",
    "    print(\"HORAIRE DE VOL : \\n\") \n",
    "    requete_api_lufthansa(base+flight_schedule, token)\n",
    "\n",
    "    print(\"\\n----------------------------------------------------------------------------\\n\")\n",
    "\n",
    "    print(\"CARACTERISTIQUES DES SALONS DISPONIBLES : \\n\")\n",
    "    requete_api_lufthansa(base+lounges, token)\n",
    "    \n",
    "    print(\"\\n----------------------------------------------------------------------------\\n\")\n",
    "\n",
    "    print(\"Villes : \\n\")\n",
    "    requete_api_lufthansa(base+cities, token)\n",
    "\n",
    "\n",
    "\n",
    "test_requetes_lufthansa()\n"
   ]
  },
  {
   "cell_type": "markdown",
   "metadata": {},
   "source": [
    "Voici un exemple de requete sur British airways, malheureusement nous ne pouvons pas avoir de clé. Ces requetes nous renvoie donc le code 403 qui montre que nous n'avons pas l'authorisation."
   ]
  },
  {
   "cell_type": "code",
   "execution_count": 13,
   "metadata": {},
   "outputs": [],
   "source": [
    "import requests\n",
    "\n",
    "\n",
    "#----------------------------API BRITISH AIRWAYS --------------------------------\n",
    "\n",
    "def requete_api_BA(link, token):\n",
    "    header = {'client-key': token}  #header permettant de s'authentifier\n",
    "    req = requests.get(link, data=header)   #requete lancée\n",
    "    print(req)  #on affiche le résultat\n",
    "\n",
    "def test_requetes_BA():\n",
    "    base = \"https://api.ba.com/rest-v1/v1/\"\n",
    "    token = \"6qx5j784nuqwd7h2rs4t9hgg\"\n",
    "\n",
    "    \n",
    "    #Divertissements disponibles à la date spécifiée\n",
    "    ife = \"ife/?pagename=xml&when=2014-02-15\"\n",
    "    \n",
    "    #renvoie les offres de forfaits vol + hôtel pour la date de départ souhaitée lorsque les lieux de départ et d'arrivée sont précisés\n",
    "    HotelPackage = \"hotelPackages;origin=LHR;destination=YYZ;departureDate=2014-03-14T12:00:00Z;\"\n",
    "    \n",
    "    #Renvoie les offres de voitures pour la destination souhaitée pour les dates de prise en charge et de restitution spécifiées\n",
    "    cars = \"cars;destination=MIA;pickUpDate=2014-03-14T12:00:00Z;dropOffDate=2014-03-16T12:00:00Z\"\n",
    "    \n",
    "    \n",
    "    requete_api_BA(base+HotelPackage, token)\n",
    "    \n",
    "    requete_api_BA(base+cars, token)\n",
    "    \n",
    "    test_requetes_BA()  \n",
    "\n"
   ]
  },
  {
   "cell_type": "markdown",
   "metadata": {},
   "source": [
    "Ci-dessous, nous montrons un exemple de plusieurs requetes sur l'API Airlabs ainsi que leur résultat."
   ]
  },
  {
   "cell_type": "code",
   "execution_count": 14,
   "metadata": {},
   "outputs": [
    {
     "name": "stdout",
     "output_type": "stream",
     "text": [
      "\n",
      "----------------------------------------------------------------------------\n",
      "\n",
      "PING : \n",
      "\n",
      "{'request': {'lang': 'en', 'currency': 'EUR', 'time': 8, 'id': 'p2tzc13aevk', 'server': 'z', 'host': 'airlabs.co', 'pid': 4164734, 'key': {'id': 19768, 'api_key': '3c0915d0-bce9-446e-8fff-5bb142492594', 'type': 'free', 'expired': '2022-10-02T22:00:00.000Z', 'registered': '2022-08-31T14:20:21.000Z', 'limits_by_hour': 2500, 'limits_by_minute': 250, 'limits_by_month': 1000, 'limits_total': 999}, 'params': {'lang': 'en'}, 'version': 9, 'method': 'ping', 'client': {'ip': '2a01:cb11:81e:8d00:38a7:be3a:4b0:f2dc', 'geo': {'country_code': 'FR', 'country': 'France', 'continent': 'Europe', 'lat': 46, 'lng': 2, 'timezone': 'Europe/Paris'}, 'connection': {'type': 'cable/dsl', 'isp_code': 5511, 'isp_name': 'France Telecom - Orange - Worldwide IP Backbone'}, 'device': {}, 'agent': {}, 'karma': {'is_blocked': False, 'is_crawler': False, 'is_bot': False, 'is_friend': False, 'is_regular': True}}}, 'response': 'pong', 'terms': \"Unauthorized access is prohibited and punishable by law. \\nReselling data 'As Is' without AirLabs.Co permission is strictly prohibited. \\nFull terms on https://airlabs.co/. \\nContact us info@airlabs.co\"}\n",
      "\n",
      "----------------------------------------------------------------------------\n",
      "\n",
      "INFORMATION SUR UN AVION : \n",
      "\n",
      "{'request': {'lang': 'en', 'currency': 'EUR', 'time': 6, 'id': 'h1n6oam7xmo', 'server': 'z', 'host': 'airlabs.co', 'pid': 4164734, 'key': {'id': 19768, 'api_key': '3c0915d0-bce9-446e-8fff-5bb142492594', 'type': 'free', 'expired': '2022-10-02T22:00:00.000Z', 'registered': '2022-08-31T14:20:21.000Z', 'limits_by_hour': 2500, 'limits_by_minute': 250, 'limits_by_month': 1000, 'limits_total': 999}, 'params': {'flight_iata': 'AA6', 'lang': 'en'}, 'version': 9, 'method': 'flight', 'client': {'ip': '2a01:cb11:81e:8d00:38a7:be3a:4b0:f2dc', 'geo': {'country_code': 'FR', 'country': 'France', 'continent': 'Europe', 'lat': 46, 'lng': 2, 'timezone': 'Europe/Paris'}, 'connection': {'type': 'cable/dsl', 'isp_code': 5511, 'isp_name': 'France Telecom - Orange - Worldwide IP Backbone'}, 'device': {}, 'agent': {}, 'karma': {'is_blocked': False, 'is_crawler': False, 'is_bot': False, 'is_friend': False, 'is_regular': True}}}, 'response': {'aircraft_icao': 'A319', 'airline_iata': 'AA', 'airline_icao': 'AAL', 'flight_iata': 'AA6', 'flight_icao': 'AAL6', 'flight_number': '6', 'dep_iata': 'OGG', 'dep_icao': 'PHOG', 'dep_terminal': None, 'dep_gate': None, 'dep_time': '2022-09-01 18:25', 'dep_time_utc': '2022-09-02 04:25', 'arr_iata': 'DFW', 'arr_icao': 'KDFW', 'arr_terminal': 'D', 'arr_gate': 'D27', 'arr_baggage': 'D29', 'arr_time': '2022-09-02 06:24', 'arr_time_utc': '2022-09-02 11:24', 'cs_airline_iata': None, 'cs_flight_number': None, 'cs_flight_iata': None, 'status': 'scheduled', 'duration': 419, 'delayed': None, 'dep_delayed': None, 'arr_delayed': None, 'arr_time_ts': 1662117840, 'dep_time_ts': 1662092700}, 'terms': \"Unauthorized access is prohibited and punishable by law. \\nReselling data 'As Is' without AirLabs.Co permission is strictly prohibited. \\nFull terms on https://airlabs.co/. \\nContact us info@airlabs.co\"}\n"
     ]
    }
   ],
   "source": [
    "import requests\n",
    "\n",
    "#----------------------------API AIRLABS --------------------------------\n",
    "\n",
    "def requete_api_Airlabs(link, token):\n",
    "    header = {'api_key': token}\n",
    "    req = requests.get(link, header)   #requete lancée\n",
    "    print(req.json())  #on affiche le résultat\n",
    "\n",
    "def test_requetes_Airlabs():\n",
    "    base = \"https://airlabs.co/api/v9/\"\n",
    "    token = \"3c0915d0-bce9-446e-8fff-5bb142492594\"\n",
    "    \n",
    "    #ping\n",
    "    ping = \"ping\"\n",
    "    \n",
    "    #Renvoie des information sur un avion qu'il soit en standby ou en vol\n",
    "    flight = \"flight?flight_iata=AA6\"\n",
    "    \n",
    "    print(\"\\n----------------------------------------------------------------------------\\n\")\n",
    "    print(\"PING : \\n\")\n",
    "    requete_api_Airlabs(base+ping, token)\n",
    "    \n",
    "    print(\"\\n----------------------------------------------------------------------------\\n\")\n",
    "    print(\"INFORMATION SUR UN AVION : \\n\")\n",
    "    requete_api_Airlabs(base+flight, token)\n",
    "    \n",
    "    \n",
    "    \n",
    "test_requetes_Airlabs()\n"
   ]
  }
 ],
 "metadata": {
  "kernelspec": {
   "display_name": "Python 3.10.6 64-bit",
   "language": "python",
   "name": "python3"
  },
  "language_info": {
   "codemirror_mode": {
    "name": "ipython",
    "version": 3
   },
   "file_extension": ".py",
   "mimetype": "text/x-python",
   "name": "python",
   "nbconvert_exporter": "python",
   "pygments_lexer": "ipython3",
   "version": "3.10.6"
  },
  "orig_nbformat": 4,
  "vscode": {
   "interpreter": {
    "hash": "ec19c5cdad325362b9a0f76d13c0364ecf7457663d419d4e32dec757447514fc"
   }
  }
 },
 "nbformat": 4,
 "nbformat_minor": 2
}
