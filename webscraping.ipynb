{
 "cells": [
  {
   "cell_type": "code",
   "execution_count": 1,
   "metadata": {},
   "outputs": [],
   "source": [
    "from operator import itemgetter\n",
    "from urllib.request import urlopen\n",
    "from bs4 import BeautifulSoup\n",
    "import pandas as pd\n",
    "from gestion_fichiers import Fichier\n",
    "from pprint import pprint\n",
    "\n",
    "\n",
    "#page_events=[]\n",
    "i=1\n",
    "table_activity = pd.DataFrame(columns=[\"Titre\",\"Mois\",\"Jour\", \"Ville\"])\n",
    "ville = \"Barcelona\"\n",
    "    \n",
    "\n",
    "def get_data(compteur):\n",
    "    \n",
    "    page = urlopen(\"https://allevents.in/\" + ville + \"/all?page=\"+str(compteur))\n",
    "    soup = BeautifulSoup(page, 'html.parser')\n",
    "    ##recupere les titres de la page avec l'outil selectorGadget\n",
    "    title = soup.select(\".title h3\")\n",
    "    # Récupérer les titres propres, on utilise l'attribut text et la boucle\n",
    "    # Renseigne ensuite ce chemin CSS dans la méthode select\n",
    "    mois = soup.findAll(name = 'span', attrs = {'class':'up-month'})\n",
    "    jour = soup.findAll(name = 'span', attrs = {'class':'up-day'})\n",
    "    # Récupérer les titres des activités propres, on utilise l'attribut text et la boucle\n",
    "    noms_activite = []\n",
    "    mois_activite = []\n",
    "    jour_activite = []\n",
    "    for nom_it, mois_it, jour_it in zip(title, mois, jour) :\n",
    "        noms_activite.append(nom_it.text)\n",
    "        mois_activite.append(mois_it.text.strip(\"()\"))\n",
    "        jour_activite.append(jour_it.text.strip(\"()\")[:2])\n",
    "        \n",
    "    result = pd.DataFrame(list(zip(noms_activite,mois_activite,jour_activite)), columns=[\"Titre\",\"Mois\",\"Jour\"])\n",
    "    \n",
    "    return result\n",
    "\n",
    "\n",
    "while True:\n",
    "    result = get_data(i)\n",
    "    if len(result) > 1:\n",
    "        table_activity = pd.concat([table_activity, result])\n",
    "        i+=1\n",
    "    else :\n",
    "        break\n",
    "        \n",
    "table_activity['Ville'] = ville    \n",
    "\n",
    "dict = table_activity.to_dict(orient='list')"
   ]
  },
  {
   "cell_type": "code",
   "execution_count": 3,
   "metadata": {},
   "outputs": [],
   "source": [
    "from DB_Mongo import DB_Mongo\n",
    "from Insertion_Mongo import insertion_mdb_event\n",
    "import json\n",
    "\n",
    "\n",
    "io = open(Fichier('event', dict, ville).link, \"r\")\n",
    "data = json.load(io)\n",
    "db = DB_Mongo()  \n",
    "insertion_mdb_event(data, db)"
   ]
  },
  {
   "cell_type": "code",
   "execution_count": 1,
   "metadata": {},
   "outputs": [],
   "source": [
    "from operator import itemgetter\n",
    "from urllib.request import urlopen\n",
    "from bs4 import BeautifulSoup\n",
    "import pandas as pd\n",
    "from gestion_fichiers import Fichier\n",
    "from DB_Mongo import DB_Mongo\n",
    "from Insertion_Mongo import insertion_mdb_event\n",
    "import json\n",
    "\n",
    "\n",
    "    \n",
    "\n",
    "def get_data(compteur, ville):\n",
    "    \n",
    "    '''\n",
    "    Fonction permettant de webscrapper les evenements d'une ville sur le site allevents.in\n",
    "    Paramètre :\n",
    "    -compteur : compteur permettant de parcourir les pages jusqu'à scrapper le dernier évenement disponible\n",
    "    \n",
    "    Sortie :\n",
    "    dataFrame contenant les informations pour la page parcourue\n",
    "    '''\n",
    "    \n",
    "    page = urlopen(\"https://allevents.in/\" + ville + \"/all?page=\"+str(compteur))\n",
    "    soup = BeautifulSoup(page, 'html.parser')\n",
    "    ##recupere les titres de la page avec l'outil selectorGadget\n",
    "    title = soup.select(\".title h3\")\n",
    "    # Récupérer les titres propres, on utilise l'attribut text et la boucle\n",
    "    # Renseigne ensuite ce chemin CSS dans la méthode select\n",
    "    mois = soup.findAll(name = 'span', attrs = {'class':'up-month'})\n",
    "    jour = soup.findAll(name = 'span', attrs = {'class':'up-day'})\n",
    "    # Récupérer les titres des activités propres, on utilise l'attribut text et la boucle\n",
    "    noms_activite = []\n",
    "    mois_activite = []\n",
    "    jour_activite = []\n",
    "    for nom_it, mois_it, jour_it in zip(title, mois, jour) :\n",
    "        noms_activite.append(nom_it.text)\n",
    "        mois_activite.append(mois_it.text.strip(\"()\"))\n",
    "        jour_activite.append(jour_it.text.strip(\"()\")[:2])\n",
    "        \n",
    "    result = pd.DataFrame(list(zip(noms_activite,mois_activite,jour_activite)), columns=[\"Titre\",\"Mois\",\"Jour\"])\n",
    "    \n",
    "    return result\n",
    "\n",
    "\n",
    "\n",
    "def scrap(ville):\n",
    "    i=1\n",
    "    table_activity = pd.DataFrame(columns=[\"Titre\",\"Mois\",\"Jour\", \"Ville\"])\n",
    "    while True:\n",
    "        result = get_data(i, ville)\n",
    "        if len(result) > 1:\n",
    "            table_activity = pd.concat([table_activity, result])\n",
    "            i+=1\n",
    "        else :\n",
    "            break\n",
    "    table_activity['Ville'] = ville    \n",
    "    dict = table_activity.to_dict(orient='list')\n",
    "    return dict\n",
    "        \n",
    "def insertion_event():\n",
    "    io = open(Fichier('event', dict, ville).link, \"r\")\n",
    "    data = json.load(io)\n",
    "    db = DB_Mongo()  \n",
    "    insertion_mdb_event(data, db)\n",
    "    \n",
    "    \n",
    "result = scrap('Paris')\n",
    "    "
   ]
  },
  {
   "cell_type": "code",
   "execution_count": 3,
   "metadata": {},
   "outputs": [
    {
     "name": "stdout",
     "output_type": "stream",
     "text": [
      "Paris\n"
     ]
    }
   ],
   "source": [
    "print(result['Ville'][0])"
   ]
  },
  {
   "cell_type": "code",
   "execution_count": null,
   "metadata": {},
   "outputs": [],
   "source": []
  }
 ],
 "metadata": {
  "kernelspec": {
   "display_name": "Python 3.10.6 64-bit",
   "language": "python",
   "name": "python3"
  },
  "language_info": {
   "codemirror_mode": {
    "name": "ipython",
    "version": 3
   },
   "file_extension": ".py",
   "mimetype": "text/x-python",
   "name": "python",
   "nbconvert_exporter": "python",
   "pygments_lexer": "ipython3",
   "version": "3.10.6"
  },
  "orig_nbformat": 4,
  "vscode": {
   "interpreter": {
    "hash": "ec19c5cdad325362b9a0f76d13c0364ecf7457663d419d4e32dec757447514fc"
   }
  }
 },
 "nbformat": 4,
 "nbformat_minor": 2
}
