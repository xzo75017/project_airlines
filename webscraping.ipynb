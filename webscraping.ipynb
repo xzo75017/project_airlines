{
 "cells": [
  {
   "cell_type": "code",
   "execution_count": 23,
   "metadata": {},
   "outputs": [
    {
     "ename": "AttributeError",
     "evalue": "'NoneType' object has no attribute 'find'",
     "output_type": "error",
     "traceback": [
      "\u001b[0;31m---------------------------------------------------------------------------\u001b[0m",
      "\u001b[0;31mAttributeError\u001b[0m                            Traceback (most recent call last)",
      "Cell \u001b[0;32mIn [23], line 45\u001b[0m\n\u001b[1;32m     43\u001b[0m \u001b[38;5;28;01mwhile\u001b[39;00m \u001b[38;5;28;01mTrue\u001b[39;00m:\n\u001b[1;32m     44\u001b[0m     data \u001b[38;5;241m=\u001b[39m get_data(url)\n\u001b[0;32m---> 45\u001b[0m     url \u001b[38;5;241m=\u001b[39m \u001b[43mget_next_page\u001b[49m\u001b[43m(\u001b[49m\u001b[43mdata\u001b[49m\u001b[43m)\u001b[49m\n\u001b[1;32m     46\u001b[0m     \u001b[38;5;28;01mif\u001b[39;00m \u001b[38;5;129;01mnot\u001b[39;00m url :\n\u001b[1;32m     47\u001b[0m         \u001b[38;5;28;01mbreak\u001b[39;00m\n",
      "Cell \u001b[0;32mIn [23], line 38\u001b[0m, in \u001b[0;36mget_next_page\u001b[0;34m(soup)\u001b[0m\n\u001b[1;32m     37\u001b[0m \u001b[38;5;28;01mdef\u001b[39;00m \u001b[38;5;21mget_next_page\u001b[39m(soup):\n\u001b[0;32m---> 38\u001b[0m     page \u001b[38;5;241m=\u001b[39m \u001b[43msoup\u001b[49m\u001b[38;5;241;43m.\u001b[39;49m\u001b[43mfind\u001b[49m(\u001b[38;5;124m'\u001b[39m\u001b[38;5;124mdiv\u001b[39m\u001b[38;5;124m'\u001b[39m, {\u001b[38;5;124m'\u001b[39m\u001b[38;5;124mclass\u001b[39m\u001b[38;5;124m'\u001b[39m: \u001b[38;5;124m'\u001b[39m\u001b[38;5;124mpull-left w100 text-center\u001b[39m\u001b[38;5;124m'\u001b[39m})\n\u001b[1;32m     39\u001b[0m     url \u001b[38;5;241m=\u001b[39m  \u001b[38;5;28mstr\u001b[39m(page\u001b[38;5;241m.\u001b[39mfind(\u001b[38;5;124m'\u001b[39m\u001b[38;5;124ma\u001b[39m\u001b[38;5;124m'\u001b[39m, {\u001b[38;5;124m'\u001b[39m\u001b[38;5;124mhref\u001b[39m\u001b[38;5;124m'\u001b[39m: \u001b[38;5;124m\"\u001b[39m\u001b[38;5;124mhttps://allevents.in/paris/music?page=2\u001b[39m\u001b[38;5;124m\"\u001b[39m}))\n\u001b[1;32m     40\u001b[0m     \u001b[38;5;28;01mreturn\u001b[39;00m url\n",
      "\u001b[0;31mAttributeError\u001b[0m: 'NoneType' object has no attribute 'find'"
     ]
    }
   ],
   "source": [
    "from urllib.request import urlopen\n",
    "from bs4 import BeautifulSoup\n",
    "import pandas as pd\n",
    "from requests_html import HTMLSession\n",
    "\n",
    "\n",
    "page_events=[]\n",
    "url=\"https://allevents.in/paris/all\"\n",
    "s = HTMLSession()\n",
    "\n",
    "def get_data(url):\n",
    "    \n",
    "    r = s.get(url)\n",
    "    #r.html.render(sleep=1)\n",
    "    soup = BeautifulSoup(r.html.html, 'html.parser')\n",
    "    ##recupere les titres de la page avec l'outil selectorGadget\n",
    "    title = soup.select(\".title h3\")\n",
    "    # Récupérer les titres des activités propres, on utilise l'attribut text et la boucle\n",
    "    noms_activite = []\n",
    "    for element in title:\n",
    "        noms_activite.append(element.text)\n",
    "    # Renseigne ensuite ce chemin CSS dans la méthode select\n",
    "    moi = soup.findAll(name = 'span', attrs = {'class':'up-month'})\n",
    "    jour = soup.findAll(name = 'span', attrs = {'class':'up-day'})\n",
    "    # Récupérer les titres propres, on utilise l'attribut text et la boucle\n",
    "    moi_activite = []\n",
    "    for element in moi:\n",
    "        moi_activite.append(element.text.strip(\"()\"))\n",
    "        jour_activite = []\n",
    "    for element in jour:\n",
    "        jour_activite.append(element.text.strip(\"()\")[:2])\n",
    "    \n",
    "    table_activity = pd.DataFrame(list(zip(noms_activite,moi_activite,jour_activite)), columns=[\"Titre\",\"moi\",\"jour\"])\n",
    "\n",
    "\n",
    "        \n",
    "def get_next_page(soup):\n",
    "    page = soup.find('div', {'class': 'pull-left w100 text-center'})\n",
    "    url =  str(page.find('a', {'href': \"https://allevents.in/paris/music?page=2\"}))\n",
    "    return url \n",
    "\n",
    "\n",
    "while True:\n",
    "    data = get_data(url)\n",
    "    url = get_next_page(data)\n",
    "    if not url :\n",
    "        break\n",
    "        \n",
    "    \n",
    "\n",
    "\n",
    "print(table_activity[:50])\n",
    "\n"
   ]
  }
 ],
 "metadata": {
  "kernelspec": {
   "display_name": "Python 3.8.10 64-bit",
   "language": "python",
   "name": "python3"
  },
  "language_info": {
   "codemirror_mode": {
    "name": "ipython",
    "version": 3
   },
   "file_extension": ".py",
   "mimetype": "text/x-python",
   "name": "python",
   "nbconvert_exporter": "python",
   "pygments_lexer": "ipython3",
   "version": "3.8.10"
  },
  "orig_nbformat": 4,
  "vscode": {
   "interpreter": {
    "hash": "916dbcbb3f70747c44a77c7bcd40155683ae19c65e1c03b4aa3499c5328201f1"
   }
  }
 },
 "nbformat": 4,
 "nbformat_minor": 2
}
