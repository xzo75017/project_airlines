{
 "cells": [
  {
   "cell_type": "code",
   "execution_count": 95,
   "metadata": {},
   "outputs": [],
   "source": [
    "import API_flightapi as API\n",
    "import pandas as pd\n",
    "import json\n",
    "from pprint import pprint\n",
    "\n",
    "\n",
    "io = open(\"requetes/flightapi_schedule.json\",\"r\")\n",
    "data = json.load(io)\n",
    "\n",
    "airport = pd.DataFrame(data['legs'])\n",
    "price = pd.DataFrame(data['fares'])\n",
    "\n",
    "def billet_id_split(df):\n",
    "    temp = df.str.split(pat=':', n=- 1, expand=True)\n",
    "    result = temp[1] + '-' + temp[2]\n",
    "    result = result.str.split(pat='-0', n=-1, expand=True)[0]\n",
    "    \n",
    "    return result\n",
    "    \n",
    "\n",
    "airport['join_id'] = billet_id_split(airport['id'])\n",
    "price['join_id'] = price['tripId'].str.split(pat=':', n=- 1, expand=True)[1]\n",
    "\n",
    "Jointure = airport.merge(right = price, on='join_id', how = 'inner')\n",
    "\n",
    "price = Jointure['price']\n",
    "\n",
    "price = price.tolist()\n",
    "        \n",
    "for i, index in enumerate(price):\n",
    "    price[i] = price[i]['totalAmount']\n",
    "\n",
    "Jointure['price'] = price\n",
    "\n",
    "(Jointure.head(5)).to_json(r'requetes/test_jointure.json')\n"
   ]
  },
  {
   "cell_type": "code",
   "execution_count": null,
   "metadata": {},
   "outputs": [],
   "source": []
  }
 ],
 "metadata": {
  "kernelspec": {
   "display_name": "Python 3.10.6 64-bit",
   "language": "python",
   "name": "python3"
  },
  "language_info": {
   "codemirror_mode": {
    "name": "ipython",
    "version": 3
   },
   "file_extension": ".py",
   "mimetype": "text/x-python",
   "name": "python",
   "nbconvert_exporter": "python",
   "pygments_lexer": "ipython3",
   "version": "3.10.6"
  },
  "orig_nbformat": 4,
  "vscode": {
   "interpreter": {
    "hash": "ec19c5cdad325362b9a0f76d13c0364ecf7457663d419d4e32dec757447514fc"
   }
  }
 },
 "nbformat": 4,
 "nbformat_minor": 2
}
