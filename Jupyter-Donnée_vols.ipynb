{
 "cells": [
  {
   "cell_type": "code",
   "execution_count": 4,
   "metadata": {},
   "outputs": [
    {
     "name": "stdout",
     "output_type": "stream",
     "text": [
      "[{}, {}, {}, {}]\n"
     ]
    }
   ],
   "source": [
    "import API_flightapi as API\n",
    "import pandas as pd\n",
    "import json\n",
    "from pprint import pprint\n",
    "\n",
    "import DB_Mongo\n",
    "\n",
    "io = open(\"requetes/flightapi_schedule.json\",\"r\")\n",
    "data = json.load(io)\n",
    "\n",
    "#pprint(data)\n",
    "\n",
    "legs = pd.DataFrame(data['legs'])\n",
    "price = pd.DataFrame(data['fares'])\n",
    "airport = pd.DataFrame(data['airports'])\n",
    "airline = pd.DataFrame(data['airlines'])\n",
    "\n",
    "def billet_id_split(df):\n",
    "    temp = df.str.split(pat=':', n=- 1, expand=True)\n",
    "    result = temp[1] + '-' + temp[2]\n",
    "    result = result.str.split(pat='-0', n=-1, expand=True)[0]\n",
    "    \n",
    "    return result\n",
    "    \n",
    "\n",
    "legs['join_id'] = billet_id_split(legs['id'])\n",
    "price['join_id'] = price['tripId'].str.split(pat=':', n=- 1, expand=True)[1]\n",
    "\n",
    "\n",
    "#legs = legs.rename({'departureAirportCode':'code', 'airlineCodes':'code'}, axis = 1)\n",
    "\n",
    "Jointure = legs.merge(right = price, on='join_id', how = 'inner')\n",
    "#Jointure = Jointure.merge(right = airport, on='join_id', how = 'inner')\n",
    "#Jointure = Jointure.merge(right = airline, on='join_id', how = 'inner')\n",
    "\n",
    "price = Jointure['price']\n",
    "\n",
    "price = price.tolist()\n",
    "        \n",
    "for i, index in enumerate(price):\n",
    "    price[i] = price[i]['totalAmount']\n",
    "\n",
    "Jointure['price'] = price\n",
    "\n",
    "\n",
    "NewTab = Jointure[['departureTime','arrivalTime','duration','departureAirportCode','arrivalAirportCode','airlineCodes','price']]\n",
    "\n",
    "(NewTab.head(10)).to_json(r'requetes/test_jointure.json')\n",
    "\n",
    "db = DB_Mongo.DB_Mongo()\n",
    "db.insert_vol(legs.to_dict(orient='list'))\n",
    "\n",
    "db.insert_event(NewTab.to_dict(orient='list'))\n",
    "\n",
    "#print(list(db.vol.find(projection={'legs':1, '_id':0})))"
   ]
  },
  {
   "cell_type": "code",
   "execution_count": null,
   "metadata": {},
   "outputs": [],
   "source": []
  }
 ],
 "metadata": {
  "kernelspec": {
   "display_name": "Python 3.10.6 64-bit",
   "language": "python",
   "name": "python3"
  },
  "language_info": {
   "codemirror_mode": {
    "name": "ipython",
    "version": 3
   },
   "file_extension": ".py",
   "mimetype": "text/x-python",
   "name": "python",
   "nbconvert_exporter": "python",
   "pygments_lexer": "ipython3",
   "version": "3.10.6"
  },
  "orig_nbformat": 4,
  "vscode": {
   "interpreter": {
    "hash": "ec19c5cdad325362b9a0f76d13c0364ecf7457663d419d4e32dec757447514fc"
   }
  }
 },
 "nbformat": 4,
 "nbformat_minor": 2
}
