{
 "cells": [
  {
   "cell_type": "code",
   "execution_count": 87,
   "metadata": {},
   "outputs": [
    {
     "name": "stdout",
     "output_type": "stream",
     "text": [
      "id CDG-LIS:UX2233~20:UX1155~20:0\n",
      "departureTime 07:00\n",
      "arrivalTime 15:15\n",
      "duration 09h 15m\n",
      "departureAirportCode CDG\n",
      "arrivalAirportCode LIS\n",
      "airlineCodes ['UX']\n",
      "price ['35e0d013368c0ad9msr:FR4394~20', 91, 33.037415, 0, 25.011602]\n",
      "id CDG-LIS:UX2233~20:UX1155~20:0\n",
      "departureTime 07:00\n",
      "arrivalTime 15:15\n",
      "duration 09h 15m\n",
      "departureAirportCode CDG\n",
      "arrivalAirportCode LIS\n",
      "airlineCodes ['UX']\n",
      "price ['35e0d013368c0ad9msr:FR4394~20', 91, 33.037415, 0, 25.011602]\n",
      "id ORY-LIS:TP453~15:TP1941~16:0\n",
      "departureTime 09:55\n",
      "arrivalTime 10:00\n",
      "duration 25h 05m\n",
      "departureAirportCode ORY\n",
      "arrivalAirportCode LIS\n",
      "airlineCodes ['TP']\n",
      "price ['88bec4959baadc66msr:TP457~15-TP1941~16', 105, 56.91852, 0, 0]\n"
     ]
    }
   ],
   "source": [
    "import API_flightapi as API\n",
    "import pandas as pd\n",
    "import json\n",
    "from pprint import pprint\n",
    "\n",
    "import DB_Mongo\n",
    "\n",
    "io = open(\"requetes/onewaytrip/Requete-du-19-09-2022.json\",\"r\")\n",
    "data = json.load(io)\n",
    "\n",
    "def insertion_mongo(data, db):\n",
    "    \n",
    "    nbRequetes = len(data[\"requetes\"])\n",
    "\n",
    "    for i in range (nbRequetes):\n",
    "        dict = {}\n",
    "        list_id = []\n",
    "        list_dt = []\n",
    "        list_at = []\n",
    "        list_dur = []\n",
    "        list_dac = []\n",
    "        list_aac = []\n",
    "        list_ac = []\n",
    "        list_price = []\n",
    "        \n",
    "\n",
    "        for element in (data[\"requetes\"][i][\"legs\"]):\n",
    "            list_id.append(element[\"id\"])\n",
    "            list_dt.append(element[\"departureTime\"])\n",
    "            list_at.append(element[\"arrivalTime\"])\n",
    "            list_dur.append(element[\"duration\"])\n",
    "            list_dac.append(element[\"departureAirportCode\"])\n",
    "            list_aac.append(element[\"arrivalAirportCode\"])\n",
    "            list_ac.append(element[\"airlineCodes\"])\n",
    "        \n",
    "        for element in (data[\"requetes\"][i][\"fares\"]):\n",
    "            list_price.append([element['tripId'], element['price']['totalAmount'],element['price']['amountPerAdult'], element['price']['amountPerChild'], element['price']['amountPerInfant'] ])\n",
    "                \n",
    "        dict[\"id\"] = list_id\n",
    "        dict[\"departureTime\"] = list_dt\n",
    "        dict[\"arrivalTime\"] = list_at \n",
    "        dict[\"duration\"] = list_dur \n",
    "        dict[\"departureAirportCode\"] = list_dac \n",
    "        dict[\"arrivalAirportCode\"] = list_aac \n",
    "        dict[\"airlineCodes\"] = list_ac   \n",
    "        dict[\"price\"] = list_price\n",
    "        \n",
    "        for key, item in dict.items():\n",
    "            print (key, item[0])\n",
    "            \n",
    "        db.insert_vol(dict)\n",
    "            \n",
    "        \n",
    "            \n",
    "            \n",
    "db = DB_Mongo.DB_Mongo()  \n",
    "insertion_mongo(data, db)"
   ]
  },
  {
   "cell_type": "code",
   "execution_count": null,
   "metadata": {},
   "outputs": [],
   "source": []
  },
  {
   "cell_type": "code",
   "execution_count": null,
   "metadata": {},
   "outputs": [],
   "source": []
  }
 ],
 "metadata": {
  "kernelspec": {
   "display_name": "Python 3.10.6 64-bit",
   "language": "python",
   "name": "python3"
  },
  "language_info": {
   "codemirror_mode": {
    "name": "ipython",
    "version": 3
   },
   "file_extension": ".py",
   "mimetype": "text/x-python",
   "name": "python",
   "nbconvert_exporter": "python",
   "pygments_lexer": "ipython3",
   "version": "3.10.6"
  },
  "orig_nbformat": 4,
  "vscode": {
   "interpreter": {
    "hash": "ec19c5cdad325362b9a0f76d13c0364ecf7457663d419d4e32dec757447514fc"
   }
  }
 },
 "nbformat": 4,
 "nbformat_minor": 2
}
